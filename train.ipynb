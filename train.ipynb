{
  "nbformat": 4,
  "nbformat_minor": 0,
  "metadata": {
    "colab": {
      "provenance": [],
      "include_colab_link": true
    },
    "kernelspec": {
      "name": "python3",
      "display_name": "Python 3"
    },
    "language_info": {
      "name": "python"
    }
  },
  "cells": [
    {
      "cell_type": "markdown",
      "metadata": {
        "id": "view-in-github",
        "colab_type": "text"
      },
      "source": [
        "<a href=\"https://colab.research.google.com/github/nhan2003h/Weather-forecasting/blob/main/train.ipynb\" target=\"_parent\"><img src=\"https://colab.research.google.com/assets/colab-badge.svg\" alt=\"Open In Colab\"/></a>"
      ]
    },
    {
      "cell_type": "code",
      "execution_count": null,
      "metadata": {
        "colab": {
          "base_uri": "https://localhost:8080/"
        },
        "id": "32D-_H2Ss6lu",
        "outputId": "9e50f9f0-0180-4a1e-91c8-0dc18bd5b30b"
      },
      "outputs": [
        {
          "output_type": "stream",
          "name": "stdout",
          "text": [
            "Requirement already satisfied: koalas in /usr/local/lib/python3.10/dist-packages (0.32.0)\n",
            "Requirement already satisfied: pandas>=0.23.2 in /usr/local/lib/python3.10/dist-packages (from koalas) (2.0.3)\n",
            "Requirement already satisfied: pyarrow>=0.10 in /usr/local/lib/python3.10/dist-packages (from koalas) (14.0.2)\n",
            "Requirement already satisfied: numpy>=1.14 in /usr/local/lib/python3.10/dist-packages (from koalas) (1.25.2)\n",
            "Requirement already satisfied: matplotlib>=3.0.0 in /usr/local/lib/python3.10/dist-packages (from koalas) (3.7.1)\n",
            "Requirement already satisfied: contourpy>=1.0.1 in /usr/local/lib/python3.10/dist-packages (from matplotlib>=3.0.0->koalas) (1.2.1)\n",
            "Requirement already satisfied: cycler>=0.10 in /usr/local/lib/python3.10/dist-packages (from matplotlib>=3.0.0->koalas) (0.12.1)\n",
            "Requirement already satisfied: fonttools>=4.22.0 in /usr/local/lib/python3.10/dist-packages (from matplotlib>=3.0.0->koalas) (4.50.0)\n",
            "Requirement already satisfied: kiwisolver>=1.0.1 in /usr/local/lib/python3.10/dist-packages (from matplotlib>=3.0.0->koalas) (1.4.5)\n",
            "Requirement already satisfied: packaging>=20.0 in /usr/local/lib/python3.10/dist-packages (from matplotlib>=3.0.0->koalas) (24.0)\n",
            "Requirement already satisfied: pillow>=6.2.0 in /usr/local/lib/python3.10/dist-packages (from matplotlib>=3.0.0->koalas) (9.4.0)\n",
            "Requirement already satisfied: pyparsing>=2.3.1 in /usr/local/lib/python3.10/dist-packages (from matplotlib>=3.0.0->koalas) (3.1.2)\n",
            "Requirement already satisfied: python-dateutil>=2.7 in /usr/local/lib/python3.10/dist-packages (from matplotlib>=3.0.0->koalas) (2.8.2)\n",
            "Requirement already satisfied: pytz>=2020.1 in /usr/local/lib/python3.10/dist-packages (from pandas>=0.23.2->koalas) (2023.4)\n",
            "Requirement already satisfied: tzdata>=2022.1 in /usr/local/lib/python3.10/dist-packages (from pandas>=0.23.2->koalas) (2024.1)\n",
            "Requirement already satisfied: six>=1.5 in /usr/local/lib/python3.10/dist-packages (from python-dateutil>=2.7->matplotlib>=3.0.0->koalas) (1.16.0)\n"
          ]
        }
      ],
      "source": [
        "%pip install koalas\n",
        "%pip install pyspark\n",
        "%pip install numpy\n",
        "%pip install pandas\n",
        "%pip install matplotlib"
      ]
    },
    {
      "cell_type": "code",
      "source": [
        "import glob\n",
        "import os\n",
        "import shutil\n",
        "\n",
        "import pyspark\n",
        "import numpy as np\n",
        "import databricks.koalas as ks\n",
        "import matplotlib.pyplot as plt\n",
        "\n",
        "from pyspark import SparkContext, SparkConf\n",
        "\n",
        "from pyspark.sql import *\n",
        "from pyspark.sql.types import *\n",
        "from pyspark.sql.functions import *\n",
        "\n",
        "from pyspark.ml.pipeline import PipelineModel\n",
        "from pyspark.ml.tuning import CrossValidatorModel\n",
        "\n",
        "from typing import *"
      ],
      "metadata": {
        "id": "ZdYs5AfQuTh7"
      },
      "execution_count": null,
      "outputs": []
    },
    {
      "cell_type": "code",
      "source": [
        "sc = SparkContext.getOrCreate()\n",
        "sc.stop()\n",
        "spark = SparkSession.builder.appName(\"dataMining\").master(\"local[*]\").config(\"spark.driver.memory\", \"128g\").getOrCreate()"
      ],
      "metadata": {
        "id": "FyI6H0fMv7lz"
      },
      "execution_count": null,
      "outputs": []
    },
    {
      "cell_type": "code",
      "source": [
        "DATASET_PATH: str = 'content/drive/data_mining/datasets/historical-hourly-weather/'\n",
        "MODELS_PATH: str = 'content/drive/data_mining/models/historical-hourly-weather/'\n",
        "\n",
        "RANDOM_SEED: int = 42\n",
        "\n",
        "SLOW_OPERATIONS: bool = True\n",
        "\n",
        "# True to save the computation of datataset preprocessing, fitted pipelines and trained models to the filesystem\n",
        "SAVE_COMPUTATIONS: bool = True\n",
        "\n",
        "# True to load the sampled dataset from the filesystem, False to compute it from the raw one\n",
        "LOAD_SAMPLED_DATASET: bool = True\n",
        "SAMPLED_DATASET_PATH: str = f'{DATASET_PATH}aggregated_sampled_weather_measurements.csv'\n",
        "\n",
        "# True to load the encoding pipeline from the filesystem, False to compute it from scratch\n",
        "LOAD_ECONDING_PIPELINE: bool = True\n",
        "ENCODING_PIPELINE_PATH: str = f'{MODELS_PATH}data_encoder'\n",
        "\n",
        "# True to load pretrained models from the filesystem, False to compute them from scratch\n",
        "LOAD_PRETRAINED_MODELS: bool = True\n",
        "RANDOM_FOREST_MODEL_PATH: str = f'{MODELS_PATH}rnd_forest'\n",
        "RANDOM_FOREST_CROSS_VALIDATION_MODEL_PATH: str = f'{MODELS_PATH}rnd_forest_cv'\n",
        "LOGISTIC_REGRESSION_CROSS_VALIDATION_MODEL_PATH: str = f'{MODELS_PATH}log_reg_cv'\n",
        "\n",
        "# necessary due to DataBricks community edition limits (training on a dataframe larger than this threshold causes an Internal Server Error)\n",
        "MAX_TRAIN_SIZE: int = 999_999"
      ],
      "metadata": {
        "id": "eLu_pc9Mv-Xy"
      },
      "execution_count": null,
      "outputs": []
    },
    {
      "cell_type": "code",
      "source": [
        "!wget --no-verbose https://github.com/andrea-gasparini/big-data-weather-forecasting/raw/master/dataset/historical-hourly-weather-dataset.zip -O /tmp/dataset.zip\n",
        "!unzip -u /tmp/dataset.zip -d /tmp/dataset"
      ],
      "metadata": {
        "colab": {
          "base_uri": "https://localhost:8080/"
        },
        "id": "wWQE6rzSwBDW",
        "outputId": "e7132591-f153-4b74-9ede-30aa0cc562d5"
      },
      "execution_count": null,
      "outputs": [
        {
          "output_type": "stream",
          "name": "stdout",
          "text": [
            "2024-04-10 06:55:13 URL:https://raw.githubusercontent.com/andrea-gasparini/big-data-weather-forecasting/master/dataset/historical-hourly-weather-dataset.zip [12655281/12655281] -> \"/tmp/dataset.zip\" [1]\n",
            "Archive:  /tmp/dataset.zip\n",
            "   creating: /tmp/dataset/aggregated_sampled_weather_measurements.csv/\n",
            "  inflating: /tmp/dataset/aggregated_sampled_weather_measurements.csv/._committed_7616641238230246128.crc  \n",
            "  inflating: /tmp/dataset/aggregated_sampled_weather_measurements.csv/.part-00000-tid-5785058191842647654-99694b27-5637-4d82-97fd-79413e3b2b1a-5515-1-c000.csv.crc  \n",
            "  inflating: /tmp/dataset/aggregated_sampled_weather_measurements.csv/.part-00006-tid-5785058191842647654-99694b27-5637-4d82-97fd-79413e3b2b1a-5521-1-c000.csv.crc  \n",
            "  inflating: /tmp/dataset/aggregated_sampled_weather_measurements.csv/.part-00002-tid-5785058191842647654-99694b27-5637-4d82-97fd-79413e3b2b1a-5517-1-c000.csv.crc  \n",
            "  inflating: /tmp/dataset/aggregated_sampled_weather_measurements.csv/.part-00004-tid-5785058191842647654-99694b27-5637-4d82-97fd-79413e3b2b1a-5519-1-c000.csv.crc  \n",
            "  inflating: /tmp/dataset/aggregated_sampled_weather_measurements.csv/part-00003-tid-5785058191842647654-99694b27-5637-4d82-97fd-79413e3b2b1a-5518-1-c000.csv  \n",
            "  inflating: /tmp/dataset/aggregated_sampled_weather_measurements.csv/_committed_7616641238230246128  \n",
            "  inflating: /tmp/dataset/aggregated_sampled_weather_measurements.csv/_committed_vacuum6920010656788597249  \n",
            "  inflating: /tmp/dataset/aggregated_sampled_weather_measurements.csv/part-00005-tid-5785058191842647654-99694b27-5637-4d82-97fd-79413e3b2b1a-5520-1-c000.csv  \n",
            "  inflating: /tmp/dataset/aggregated_sampled_weather_measurements.csv/part-00002-tid-5785058191842647654-99694b27-5637-4d82-97fd-79413e3b2b1a-5517-1-c000.csv  \n",
            "  inflating: /tmp/dataset/aggregated_sampled_weather_measurements.csv/_started_5785058191842647654  \n",
            "  inflating: /tmp/dataset/aggregated_sampled_weather_measurements.csv/part-00001-tid-5785058191842647654-99694b27-5637-4d82-97fd-79413e3b2b1a-5516-1-c000.csv  \n",
            "  inflating: /tmp/dataset/aggregated_sampled_weather_measurements.csv/_committed_777980178201020908  \n",
            "  inflating: /tmp/dataset/aggregated_sampled_weather_measurements.csv/_committed_5785058191842647654  \n",
            "  inflating: /tmp/dataset/aggregated_sampled_weather_measurements.csv/._committed_5785058191842647654.crc  \n",
            "  inflating: /tmp/dataset/aggregated_sampled_weather_measurements.csv/.part-00001-tid-5785058191842647654-99694b27-5637-4d82-97fd-79413e3b2b1a-5516-1-c000.csv.crc  \n",
            "  inflating: /tmp/dataset/aggregated_sampled_weather_measurements.csv/.part-00003-tid-5785058191842647654-99694b27-5637-4d82-97fd-79413e3b2b1a-5518-1-c000.csv.crc  \n",
            "  inflating: /tmp/dataset/aggregated_sampled_weather_measurements.csv/part-00007-tid-5785058191842647654-99694b27-5637-4d82-97fd-79413e3b2b1a-5522-1-c000.csv  \n",
            "  inflating: /tmp/dataset/aggregated_sampled_weather_measurements.csv/part-00006-tid-5785058191842647654-99694b27-5637-4d82-97fd-79413e3b2b1a-5521-1-c000.csv  \n",
            "  inflating: /tmp/dataset/aggregated_sampled_weather_measurements.csv/._started_5785058191842647654.crc  \n",
            "  inflating: /tmp/dataset/aggregated_sampled_weather_measurements.csv/._committed_777980178201020908.crc  \n",
            "  inflating: /tmp/dataset/aggregated_sampled_weather_measurements.csv/part-00000-tid-5785058191842647654-99694b27-5637-4d82-97fd-79413e3b2b1a-5515-1-c000.csv  \n",
            "  inflating: /tmp/dataset/aggregated_sampled_weather_measurements.csv/.part-00007-tid-5785058191842647654-99694b27-5637-4d82-97fd-79413e3b2b1a-5522-1-c000.csv.crc  \n",
            "  inflating: /tmp/dataset/aggregated_sampled_weather_measurements.csv/.part-00005-tid-5785058191842647654-99694b27-5637-4d82-97fd-79413e3b2b1a-5520-1-c000.csv.crc  \n",
            "  inflating: /tmp/dataset/aggregated_sampled_weather_measurements.csv/part-00004-tid-5785058191842647654-99694b27-5637-4d82-97fd-79413e3b2b1a-5519-1-c000.csv  \n",
            "  inflating: /tmp/dataset/aggregated_sampled_weather_measurements.csv/._committed_vacuum6920010656788597249.crc  \n",
            "  inflating: /tmp/dataset/city_attributes.csv  \n",
            "  inflating: /tmp/dataset/humidity.csv  \n",
            "  inflating: /tmp/dataset/pressure.csv  \n",
            "  inflating: /tmp/dataset/temperature.csv  \n",
            "  inflating: /tmp/dataset/weather_description.csv  \n",
            "  inflating: /tmp/dataset/wind_direction.csv  \n",
            "  inflating: /tmp/dataset/wind_speed.csv  \n"
          ]
        }
      ]
    },
    {
      "cell_type": "code",
      "source": [
        "from google.colab import drive\n",
        "drive.mount('/content/drive')"
      ],
      "metadata": {
        "colab": {
          "base_uri": "https://localhost:8080/"
        },
        "id": "spJKKh_kwGdw",
        "outputId": "58242c1a-63e0-4887-f594-8806a8ee3d5a"
      },
      "execution_count": null,
      "outputs": [
        {
          "output_type": "stream",
          "name": "stdout",
          "text": [
            "Drive already mounted at /content/drive; to attempt to forcibly remount, call drive.mount(\"/content/drive\", force_remount=True).\n"
          ]
        }
      ]
    },
    {
      "cell_type": "code",
      "source": [
        "input_files = glob.glob(os.path.join('/tmp/dataset', \"*\"))\n",
        "os.makedirs(DATASET_PATH, exist_ok=True)\n",
        "for file in input_files:\n",
        "    destination_path = f'{DATASET_PATH}/{os.path.basename(file)}'\n",
        "    shutil.move(file, destination_path)"
      ],
      "metadata": {
        "id": "PR0WoVoZwIY_"
      },
      "execution_count": null,
      "outputs": []
    },
    {
      "cell_type": "code",
      "source": [
        "weather_conditions_df = ks.read_csv(f'{DATASET_PATH}weather_description.csv')\n",
        "humidity_df = ks.read_csv(f'{DATASET_PATH}humidity.csv')\n",
        "pressure_df = ks.read_csv(f'{DATASET_PATH}pressure.csv')\n",
        "temperature_df = ks.read_csv(f'{DATASET_PATH}temperature.csv')\n",
        "city_attributes_df = ks.read_csv(f'{DATASET_PATH}city_attributes.csv')\n",
        "wind_direction_df = ks.read_csv(f'{DATASET_PATH}wind_direction.csv')\n",
        "wind_speed_df = ks.read_csv(f'{DATASET_PATH}wind_speed.csv')"
      ],
      "metadata": {
        "id": "463q3Q6kw78g"
      },
      "execution_count": null,
      "outputs": []
    },
    {
      "cell_type": "code",
      "source": [
        "def print_dataframe_shape(dataframe: Union[DataFrame, ks.DataFrame]) -> None:\n",
        "\n",
        "    if isinstance(dataframe, ks.DataFrame): dataframe = dataframe.to_spark()\n",
        "\n",
        "    rows_count = dataframe.count()\n",
        "    columns_count = len(dataframe.columns)\n",
        "\n",
        "    print(f'The shape of the dataset is {rows_count} rows by {columns_count} columns', end='\\n\\n')"
      ],
      "metadata": {
        "id": "sDk6ghRrxAAa"
      },
      "execution_count": null,
      "outputs": []
    },
    {
      "cell_type": "code",
      "source": [
        "DATETIME_COL = 'datetime'\n",
        "HUMIDITY_COL = 'humidity'\n",
        "PRESSURE_COL = 'pressure'\n",
        "TEMPERATURE_COL = 'temperature'\n",
        "WIND_DIRECTION_COL = 'wind_direction'\n",
        "WIND_SPEED_COL = 'wind_speed'\n",
        "LATITUDE_COL = 'latitude'\n",
        "LONGITUDE_COL = 'longitude'\n",
        "CITY_COL = 'city'\n",
        "COUNTRY_COL = 'country'\n",
        "WEATHER_CONDITION_COL = 'weather_condition'"
      ],
      "metadata": {
        "id": "S2UiR0jQxC0Q"
      },
      "execution_count": null,
      "outputs": []
    },
    {
      "cell_type": "code",
      "source": [
        "def filter_dataframe_by_city_column(dataframe: ks.DataFrame,\n",
        "                                    city_name: str,\n",
        "                                    new_column_name: str) -> DataFrame:\n",
        "    '''\n",
        "    Args:\n",
        "        - dataframe: a `DataFrame` with a datetime column and n cities columns,\n",
        "                     where the records are the related hourly measurements\n",
        "        - city_name: city name between the ones in the dataframe\n",
        "        - new_column_name: name to replace the city name\n",
        "\n",
        "    Returns:\n",
        "        a new `DataFrame` with:\n",
        "            - the datetime column\n",
        "            - a single column of measurements related to the `city_name`\n",
        "              and renamed as `new_column_name`\n",
        "    '''\n",
        "    return dataframe.to_spark() \\\n",
        "        .withColumn(new_column_name, col(city_name)) \\\n",
        "        .select([DATETIME_COL, new_column_name])"
      ],
      "metadata": {
        "id": "h5DzuIImxEou"
      },
      "execution_count": null,
      "outputs": []
    },
    {
      "cell_type": "code",
      "source": [
        "def join_dataframes(dataframes: List[DataFrame], column_name: str) -> DataFrame:\n",
        "    '''\n",
        "    Args:\n",
        "        - dataframse: a list of `DataFrame` to be joined\n",
        "        - column_name: the column over which the records should be joined\n",
        "\n",
        "    Returns:\n",
        "        a new dataframes resulting from the join of all the dataframes\n",
        "        over the `column_name` column\n",
        "    '''\n",
        "    joined_df = dataframes[0]\n",
        "\n",
        "    for dataframe in dataframes[1:]:\n",
        "        joined_df = joined_df.join(dataframe, [column_name])\n",
        "\n",
        "    return joined_df"
      ],
      "metadata": {
        "id": "qywCqgaJxHwb"
      },
      "execution_count": null,
      "outputs": []
    },
    {
      "cell_type": "code",
      "source": [
        "weather_measurements_df = None\n",
        "\n",
        "# Iterate over all the records in the cities `DataFrame`\n",
        "for index, row in city_attributes_df.iterrows():\n",
        "\n",
        "    city = row.City\n",
        "    country = row.Country\n",
        "    latitude = row.Latitude\n",
        "    longitude = row.Longitude\n",
        "\n",
        "    # Compute a list of `DataFrame`, one for each type of measurement in the city\n",
        "    dataframes = [\n",
        "        filter_dataframe_by_city_column(humidity_df, city, HUMIDITY_COL),\n",
        "        filter_dataframe_by_city_column(pressure_df, city, PRESSURE_COL),\n",
        "        filter_dataframe_by_city_column(temperature_df, city, TEMPERATURE_COL),\n",
        "        filter_dataframe_by_city_column(wind_direction_df, city, WIND_DIRECTION_COL),\n",
        "        filter_dataframe_by_city_column(wind_speed_df, city, WIND_SPEED_COL),\n",
        "        filter_dataframe_by_city_column(weather_conditions_df, city, WEATHER_CONDITION_COL)\n",
        "    ]\n",
        "\n",
        "    # Compute a `DataFrame` that includes all the data about the measurements in the city\n",
        "    joined_df = join_dataframes(dataframes, DATETIME_COL) \\\n",
        "        .withColumn(CITY_COL, lit(city)) \\\n",
        "        .withColumn(COUNTRY_COL, lit(country)) \\\n",
        "        .withColumn(LATITUDE_COL, lit(latitude)) \\\n",
        "        .withColumn(LONGITUDE_COL, lit(longitude))\n",
        "\n",
        "    # Union the `DataFrame` with the ones computed in the previous iterations\n",
        "    weather_measurements_df = weather_measurements_df.union(joined_df) if weather_measurements_df is not None else joined_df\n"
      ],
      "metadata": {
        "id": "9M9FM2O7xJpd"
      },
      "execution_count": null,
      "outputs": []
    },
    {
      "cell_type": "code",
      "source": [
        "# if SLOW_OPERATIONS:\n",
        "#     for c in weather_measurements_df.columns:\n",
        "#         print(f'Missing values of column `{c}` count: {weather_measurements_df.where(col(c).isNull()).count()}')"
      ],
      "metadata": {
        "id": "Rbr-F9AGxRB9"
      },
      "execution_count": null,
      "outputs": []
    },
    {
      "cell_type": "code",
      "source": [
        "def get_weather_conditions_aggregation_dict(weather_conditions: Iterable[str]) -> Dict[str, str]:\n",
        "    '''\n",
        "    Args:\n",
        "        - weather_conditions: an iterable collection of string weather conditions to be aggregated\n",
        "\n",
        "    Returns:\n",
        "        a dictionary that goes from the original weather condition name to one among the following:\n",
        "            - thunderstorm\n",
        "            - rainy\n",
        "            - snowy\n",
        "            - cloudy\n",
        "            - foggy\n",
        "            - sunny\n",
        "    '''\n",
        "\n",
        "    weather_conditions_dict = dict()\n",
        "\n",
        "    for weather_condition in weather_conditions:\n",
        "\n",
        "        weather_condition_lowered = weather_condition.lower()\n",
        "\n",
        "        if any(key in weather_condition_lowered for key in ['squall', 'thunderstorm']):\n",
        "            weather_conditions_dict[weather_condition] = 'thunderstorm'\n",
        "        elif any(key in weather_condition_lowered for key in ['drizzle', 'rain']):\n",
        "            weather_conditions_dict[weather_condition] = 'rainy'\n",
        "        elif any(key in weather_condition_lowered for key in ['sleet', 'snow']):\n",
        "            weather_conditions_dict[weather_condition] = 'snowy'\n",
        "        elif 'cloud' in weather_condition_lowered:\n",
        "            weather_conditions_dict[weather_condition] = 'cloudy'\n",
        "        elif any(key in weather_condition_lowered for key in ['fog', 'mist', 'haze']):\n",
        "            weather_conditions_dict[weather_condition] = 'foggy'\n",
        "        elif any(key in weather_condition_lowered for key in ['clear', 'sun']):\n",
        "            weather_conditions_dict[weather_condition] = 'sunny'\n",
        "\n",
        "    return weather_conditions_dict\n"
      ],
      "metadata": {
        "id": "2fyoV8epxTzT"
      },
      "execution_count": null,
      "outputs": []
    },
    {
      "cell_type": "code",
      "source": [
        "not_null_weather_measurements_df = weather_measurements_df.dropna()\n"
      ],
      "metadata": {
        "id": "4ZcXudeJxgwC"
      },
      "execution_count": null,
      "outputs": []
    },
    {
      "cell_type": "code",
      "source": [
        "weather_conditions_all = not_null_weather_measurements_df \\\n",
        "    .select(WEATHER_CONDITION_COL).distinct() \\\n",
        "    .to_koalas().to_numpy().reshape(-1)"
      ],
      "metadata": {
        "id": "b0jDR6QHxYh-"
      },
      "execution_count": null,
      "outputs": []
    },
    {
      "cell_type": "code",
      "source": [
        "weather_conditions_dict = get_weather_conditions_aggregation_dict(weather_conditions_all)"
      ],
      "metadata": {
        "id": "4CRG-0wtxpRl"
      },
      "execution_count": null,
      "outputs": []
    },
    {
      "cell_type": "code",
      "source": [
        "weather_measurements_aggregated_df = not_null_weather_measurements_df.replace(weather_conditions_dict)"
      ],
      "metadata": {
        "id": "tUrqW3cUxkF7"
      },
      "execution_count": null,
      "outputs": []
    },
    {
      "cell_type": "code",
      "source": [
        "WEATHER_CONDITIONS = set(weather_conditions_dict.values())\n",
        "\n",
        "weather_measurements_aggregated_df = weather_measurements_aggregated_df \\\n",
        "    .filter(weather_measurements_aggregated_df[WEATHER_CONDITION_COL].isin(WEATHER_CONDITIONS))"
      ],
      "metadata": {
        "id": "UoXHrjzQxm_E"
      },
      "execution_count": null,
      "outputs": []
    },
    {
      "cell_type": "code",
      "source": [
        "def count_weather_condition_occurrences(dataframe: DataFrame, class_name: str) -> int:\n",
        "    '''\n",
        "    Args:\n",
        "        - dataframe: a `DataFrame` which contains a column `WEATHER_CONDITION_COL`\n",
        "        - class_name: the class name to count the occurences of\n",
        "\n",
        "    Returns:\n",
        "        the total number of `class_name` occurences inside `dataframe`\n",
        "    '''\n",
        "    return dataframe.filter(dataframe[WEATHER_CONDITION_COL] == class_name).count()"
      ],
      "metadata": {
        "id": "Z_Dr6APBxqc_"
      },
      "execution_count": null,
      "outputs": []
    },
    {
      "cell_type": "code",
      "source": [
        "def get_undersampling_fracs(dataframe: DataFrame) -> Dict[str, float]:\n",
        "    '''\n",
        "    Args:\n",
        "        - dataframe: a `DataFrame` of weather measurements which contains a column `WEATHER_CONDITION_COL`\n",
        "\n",
        "    Returns:\n",
        "        a dictionary that goes from a weather condition to its fraction\n",
        "        that should be sampled in order to match the occurences of the minority class\n",
        "    '''\n",
        "\n",
        "    rainy_cnt = count_weather_condition_occurrences(dataframe, 'rainy')\n",
        "    snowy_cnt = count_weather_condition_occurrences(dataframe, 'snowy')\n",
        "    sunny_cnt = count_weather_condition_occurrences(dataframe, 'sunny')\n",
        "    foggy_cnt = count_weather_condition_occurrences(dataframe, 'foggy')\n",
        "    cloudy_cnt = count_weather_condition_occurrences(dataframe, 'cloudy')\n",
        "    thunderstorm_cnt = count_weather_condition_occurrences(dataframe, 'thunderstorm')\n",
        "\n",
        "    minority_class_cnt = np.min([rainy_cnt, snowy_cnt, sunny_cnt, cloudy_cnt, foggy_cnt, thunderstorm_cnt])\n",
        "\n",
        "    return {\n",
        "        'rainy': minority_class_cnt / rainy_cnt,\n",
        "        'snowy': minority_class_cnt / snowy_cnt,\n",
        "        'sunny': minority_class_cnt / sunny_cnt,\n",
        "        'foggy': minority_class_cnt / foggy_cnt,\n",
        "        'cloudy': minority_class_cnt / cloudy_cnt,\n",
        "        'thunderstorm': minority_class_cnt / thunderstorm_cnt\n",
        "    }"
      ],
      "metadata": {
        "id": "QDF_heroxtMa"
      },
      "execution_count": null,
      "outputs": []
    },
    {
      "cell_type": "code",
      "source": [
        "sampled_weather_measurements_df = ks.read_csv(SAMPLED_DATASET_PATH).to_spark() if LOAD_SAMPLED_DATASET \\\n",
        "                                  else not_null_weather_measurements_df.sampleBy(WEATHER_CONDITION_COL,\n",
        "                                                                                 fractions=get_undersampling_fracs(not_null_weather_measurements_df),\n",
        "                                                                                 seed=RANDOM_SEED)"
      ],
      "metadata": {
        "id": "bOpxYqLxx0jr"
      },
      "execution_count": null,
      "outputs": []
    },
    {
      "cell_type": "code",
      "source": [
        "if SAVE_COMPUTATIONS and not LOAD_SAMPLED_DATASET:\n",
        "    sampled_weather_measurements_df.write.csv(SAMPLED_DATASET_PATH,\n",
        "                                              mode='overwrite',\n",
        "                                              header=True)"
      ],
      "metadata": {
        "id": "UIFVE99wx5Pk"
      },
      "execution_count": null,
      "outputs": []
    },
    {
      "cell_type": "code",
      "source": [
        "# sampled_weather_measurements_df.describe().to_koalas().transpose()"
      ],
      "metadata": {
        "id": "7PKP4SS60c_v"
      },
      "execution_count": null,
      "outputs": []
    },
    {
      "cell_type": "code",
      "source": [
        "train_df, test_df = sampled_weather_measurements_df.randomSplit([0.8, 0.2], seed=RANDOM_SEED)"
      ],
      "metadata": {
        "id": "GyrB61i_0kyz"
      },
      "execution_count": null,
      "outputs": []
    },
    {
      "cell_type": "code",
      "source": [
        "# necessary due to DataBricks limits (training on a dataframe larger than this threshold causes an Internal Server Error)\n",
        "train_df = train_df.limit(MAX_TRAIN_SIZE)"
      ],
      "metadata": {
        "id": "rqwAOEfn0yI5"
      },
      "execution_count": null,
      "outputs": []
    },
    {
      "cell_type": "code",
      "source": [
        "\n",
        "print(f'Train set size:  {train_df.count()} instances')\n",
        "print(f'Test set size:   {test_df.count()} instances')"
      ],
      "metadata": {
        "colab": {
          "base_uri": "https://localhost:8080/"
        },
        "id": "Uycdgex70zzp",
        "outputId": "cfffd1d3-49fd-4d14-d78a-65a231547dcd"
      },
      "execution_count": null,
      "outputs": [
        {
          "output_type": "stream",
          "name": "stdout",
          "text": [
            "Train set size:  41230 instances\n",
            "Test set size:   10199 instances\n"
          ]
        }
      ]
    },
    {
      "cell_type": "code",
      "source": [
        "NUMERICAL_FEATURES = [HUMIDITY_COL,\n",
        "                      PRESSURE_COL,\n",
        "                      TEMPERATURE_COL,\n",
        "                      WIND_DIRECTION_COL,\n",
        "                      WIND_SPEED_COL,\n",
        "                      LATITUDE_COL,\n",
        "                      LONGITUDE_COL]\n",
        "\n",
        "CATEGORICAL_FEATURES = []\n",
        "\n",
        "TARGET_VARIABLE_COL = WEATHER_CONDITION_COL\n",
        "PREDICTED_TARGET_VARIABLE_COL = f'predicted_{TARGET_VARIABLE_COL}'\n",
        "\n",
        "LABEL_COL = 'label'\n",
        "PREDICTION_COL = 'prediction'\n",
        "\n",
        "FEATURES_COL = 'features'\n",
        "SCALED_FEATURES_COL = f'scaled_{FEATURES_COL}'"
      ],
      "metadata": {
        "id": "m1a8frun03_w"
      },
      "execution_count": null,
      "outputs": []
    },
    {
      "cell_type": "code",
      "source": [
        "def save_pyspark_model(model, path: str, append_datetime: bool = True) -> None:\n",
        "\n",
        "    if append_datetime:\n",
        "        from datetime import datetime\n",
        "        path += '-' + datetime.now().strftime(\"%Y%d%m-%H%M%S\")\n",
        "\n",
        "    model.write().overwrite().save(path)"
      ],
      "metadata": {
        "id": "vvG9B2hs057S"
      },
      "execution_count": null,
      "outputs": []
    },
    {
      "cell_type": "code",
      "source": [
        "def encoding_pipeline(dataframe: DataFrame,\n",
        "                      numerical_features: List[str],\n",
        "                      categorical_features: List[str],\n",
        "                      target_variable: str,\n",
        "                      with_std: bool = True,\n",
        "                      with_mean: bool = False) -> PipelineModel:\n",
        "    '''\n",
        "    Args:\n",
        "        - dataframe: the input `DataFrame` to fit the pipeline\n",
        "        - numerical_features: the list of column names in `dataframe` corresponding to numerical features\n",
        "        - categorical_features: the list of column names in `dataframe` corresponding to categorical features\n",
        "        - target_variable: the column name in `dataframe` corresponding to the target variable\n",
        "        - with_std: whether to scale the data to unit standard deviation or not (True by default)\n",
        "        - with_mean: whether to center the data with mean before scaling (False by default)\n",
        "\n",
        "    Returns:\n",
        "        the encoding pipeline fitted with `dataframe`\n",
        "    '''\n",
        "\n",
        "    from pyspark.ml import Pipeline\n",
        "    from pyspark.ml.feature import StringIndexer, OneHotEncoder, VectorAssembler, StandardScaler\n",
        "\n",
        "    # Indexing, i.e. transform to numerical values, the target column and rename it as the variable `LABEL_COL`\n",
        "    label_indexer = StringIndexer(inputCol=target_variable, outputCol=LABEL_COL)\n",
        "\n",
        "    # Create a list of indexers, one for each categorical feature\n",
        "    indexers = [StringIndexer(inputCol=c, outputCol=f'{c}_indexed', handleInvalid='keep') for c in categorical_features]\n",
        "\n",
        "    # Create the one-hot encoder for the list of features just indexed (this encoder will keep any unseen label in the future)\n",
        "    encoder = OneHotEncoder(inputCols=[indexer.getOutputCol() for indexer in indexers],\n",
        "                            outputCols=[f'{indexer.getOutputCol()}_encoded' for indexer in indexers],\n",
        "                            handleInvalid='keep')\n",
        "\n",
        "    # Assemble all the features (both one-hot-encoded categorical and numerical) into a single vector\n",
        "    features = encoder.getOutputCols() + numerical_features\n",
        "    assembler = VectorAssembler(inputCols=features, outputCol=FEATURES_COL)\n",
        "\n",
        "    # Create a second feature column with the data scaled accordingly to `withStd` and `withMean`\n",
        "    scaler = StandardScaler(inputCol=assembler.getOutputCol(), outputCol=SCALED_FEATURES_COL, withStd=with_std, withMean=with_mean)\n",
        "\n",
        "    stages = [label_indexer] + indexers + [encoder] + [assembler] + [scaler]\n",
        "    pipeline = Pipeline(stages=stages)\n",
        "\n",
        "    transformer = pipeline.fit(dataframe)\n",
        "\n",
        "    return transformer\n"
      ],
      "metadata": {
        "id": "cXnLouk808zA"
      },
      "execution_count": null,
      "outputs": []
    },
    {
      "cell_type": "code",
      "source": [
        "# data_encoder = PipelineModel.load(ENCODING_PIPELINE_PATH) if LOAD_ECONDING_PIPELINE \\\n",
        "#                else encoding_pipeline(train_df, NUMERICAL_FEATURES, CATEGORICAL_FEATURES, TARGET_VARIABLE_COL)\n",
        "data_encoder = encoding_pipeline(train_df, NUMERICAL_FEATURES, CATEGORICAL_FEATURES, TARGET_VARIABLE_COL)"
      ],
      "metadata": {
        "id": "gjuadcjr0_bp"
      },
      "execution_count": null,
      "outputs": []
    },
    {
      "cell_type": "code",
      "source": [
        "if SAVE_COMPUTATIONS and not LOAD_ECONDING_PIPELINE:\n",
        "    save_pyspark_model(data_encoder, ENCODING_PIPELINE_PATH)"
      ],
      "metadata": {
        "id": "zPwmEMDm1w95"
      },
      "execution_count": null,
      "outputs": []
    },
    {
      "cell_type": "code",
      "source": [
        "encoded_train_df = data_encoder.transform(train_df)\n",
        "encoded_test_df = data_encoder.transform(test_df)"
      ],
      "metadata": {
        "id": "4j21NEAd1y9L"
      },
      "execution_count": null,
      "outputs": []
    },
    {
      "cell_type": "code",
      "source": [
        "encoded_train_df.select([FEATURES_COL, SCALED_FEATURES_COL, LABEL_COL]).show(5)\n"
      ],
      "metadata": {
        "colab": {
          "base_uri": "https://localhost:8080/"
        },
        "id": "IH2n7nBY11BX",
        "outputId": "b947e118-73f5-4e15-de66-2ab7e6660a8d"
      },
      "execution_count": null,
      "outputs": [
        {
          "output_type": "stream",
          "name": "stdout",
          "text": [
            "+--------------------+--------------------+-----+\n",
            "|            features|     scaled_features|label|\n",
            "+--------------------+--------------------+-----+\n",
            "|[93.0,1015.0,281....|[4.49744891584403...|  0.0|\n",
            "|[72.0,1015.0,284....|[3.48189593484699...|  1.0|\n",
            "|[93.0,1015.0,281....|[4.49744891584403...|  0.0|\n",
            "|[76.0,1011.0,284....|[3.67533459789404...|  0.0|\n",
            "|[74.0,1010.0,286....|[3.57861526637052...|  1.0|\n",
            "+--------------------+--------------------+-----+\n",
            "only showing top 5 rows\n",
            "\n"
          ]
        }
      ]
    },
    {
      "cell_type": "code",
      "source": [
        "from pyspark.ml.classification import RandomForestClassifier, RandomForestClassificationModel\n",
        "\n",
        "# rnd_forest_model = RandomForestClassificationModel.load(RANDOM_FOREST_MODEL_PATH) if LOAD_PRETRAINED_MODELS \\\n",
        "#                    else RandomForestClassifier(featuresCol=FEATURES_COL, labelCol=LABEL_COL).fit(encoded_train_df)\n",
        "rnd_forest_model = RandomForestClassifier(featuresCol=FEATURES_COL, labelCol=LABEL_COL).fit(encoded_train_df)\n"
      ],
      "metadata": {
        "id": "aCJJPmhG138k"
      },
      "execution_count": null,
      "outputs": []
    },
    {
      "cell_type": "code",
      "source": [
        "rnd_forest_predictions = rnd_forest_model.transform(encoded_test_df)"
      ],
      "metadata": {
        "id": "DSA23USK2Blr"
      },
      "execution_count": null,
      "outputs": []
    },
    {
      "cell_type": "code",
      "source": [
        "from pyspark.ml.feature import IndexToString\n",
        "\n",
        "predictions_idx_to_str = IndexToString(inputCol=PREDICTION_COL,\n",
        "                                       outputCol=PREDICTED_TARGET_VARIABLE_COL,\n",
        "                                       labels=data_encoder.stages[0].labels)"
      ],
      "metadata": {
        "id": "u2j4hA3S2EmO"
      },
      "execution_count": null,
      "outputs": []
    },
    {
      "cell_type": "code",
      "source": [
        "rnd_forest_predictions = predictions_idx_to_str.transform(rnd_forest_predictions)\n"
      ],
      "metadata": {
        "id": "g-LRi35d2GQE"
      },
      "execution_count": null,
      "outputs": []
    },
    {
      "cell_type": "code",
      "source": [
        "def eval_predictions(predictions: DataFrame) -> None:\n",
        "\n",
        "    from sklearn.metrics import precision_score, recall_score, accuracy_score\n",
        "\n",
        "    labels = predictions.select(LABEL_COL).to_koalas().to_numpy()\n",
        "    predictions = predictions.select(PREDICTION_COL).to_koalas().to_numpy()\n",
        "\n",
        "    precision = precision_score(labels, predictions, average='macro')\n",
        "    recall = recall_score(labels, predictions, average='macro')\n",
        "    f1_score = 2 * precision * recall / (precision + recall)\n",
        "    accuracy = accuracy_score(labels, predictions)\n",
        "\n",
        "    print(f'Accuracy: {accuracy}')\n",
        "    print(f'Precision: {precision}')\n",
        "    print(f'Recall: {recall}')\n",
        "    print(f'F1-score: {f1_score}')"
      ],
      "metadata": {
        "id": "UwbI0I2L2IV3"
      },
      "execution_count": null,
      "outputs": []
    },
    {
      "cell_type": "code",
      "source": [
        "eval_predictions(rnd_forest_predictions)\n"
      ],
      "metadata": {
        "colab": {
          "base_uri": "https://localhost:8080/"
        },
        "id": "q-Cf6EAR2KBN",
        "outputId": "b79bc224-b96a-4306-8b88-16f5371c7e4a"
      },
      "execution_count": null,
      "outputs": [
        {
          "output_type": "stream",
          "name": "stdout",
          "text": [
            "Accuracy: 0.5122070791254044\n",
            "Precision: 0.4873210110158865\n",
            "Recall: 0.5081167703280439\n",
            "F1-score: 0.4975016678512756\n"
          ]
        }
      ]
    },
    {
      "cell_type": "code",
      "source": [
        "def plot_confusion_matrix(predictions_df: DataFrame,\n",
        "                          normalize: bool = False,\n",
        "                          title: str = None):\n",
        "    '''\n",
        "    Plots a Confusion Matrix computed on the given `DataFrame`\n",
        "\n",
        "    Args:\n",
        "        - predictions_df: a `DataFrame` that has at least a `TARGET_VARIABLE_COL` and a `PREDICTED_TARGET_VARIABLE_COL`\n",
        "        - normalize: True to normalize the values in the Confusion Matrix, False otherwise\n",
        "        - title: optional title to append on top of the plotted Confusion Matrix\n",
        "    '''\n",
        "\n",
        "    from sklearn.metrics import confusion_matrix\n",
        "    from sklearn.utils.multiclass import unique_labels\n",
        "\n",
        "    labels = predictions_df.select(TARGET_VARIABLE_COL).to_koalas().to_numpy()\n",
        "    pedictions = predictions_df.select(PREDICTED_TARGET_VARIABLE_COL).to_koalas().to_numpy()\n",
        "\n",
        "    if not title:\n",
        "        if normalize:\n",
        "            title = 'Normalized confusion matrix'\n",
        "        else:\n",
        "            title = 'Confusion matrix, without normalization'\n",
        "\n",
        "    # Compute confusion matrix\n",
        "    cm = confusion_matrix(labels, pedictions, labels=None)\n",
        "\n",
        "    # Only use the labels that appear in the data\n",
        "    classes = unique_labels(labels, pedictions)\n",
        "\n",
        "    if normalize: cm = cm.astype('float') / cm.sum(axis=1)[:, np.newaxis]\n",
        "\n",
        "    fig, ax = plt.subplots()\n",
        "    im = ax.imshow(cm, interpolation='nearest', cmap=plt.cm.Blues)\n",
        "    ax.figure.colorbar(im, ax=ax)\n",
        "\n",
        "    # We want to show all ticks...\n",
        "    ax.set(xticks=np.arange(cm.shape[1]), yticks=np.arange(cm.shape[0]),\n",
        "           # ... and label them with the respective list entries\n",
        "           xticklabels=classes, yticklabels=classes,\n",
        "           xlabel='Predicted label', ylabel='True label',\n",
        "           title=title)\n",
        "\n",
        "    ax.set_ylim(len(classes) - 0.5, -0.5)\n",
        "\n",
        "    # Rotate the tick labels and set their alignment.\n",
        "    plt.setp(ax.get_xticklabels(), rotation=45, ha='right', rotation_mode='anchor')\n",
        "\n",
        "    # Loop over data dimensions and create text annotations.\n",
        "    fmt = '.2f' if normalize else 'd'\n",
        "    thresh = cm.max() / 2.\n",
        "    for i in range(cm.shape[0]):\n",
        "        for j in range(cm.shape[1]):\n",
        "            ax.text(j, i, format(cm[i, j], fmt), ha='center', va='center',\n",
        "                    color='white' if cm[i, j] > thresh else 'black')\n",
        "\n",
        "    fig.tight_layout()\n",
        "    plt.show()"
      ],
      "metadata": {
        "id": "tn68u_yy2NRj"
      },
      "execution_count": null,
      "outputs": []
    },
    {
      "cell_type": "code",
      "source": [
        "plot_confusion_matrix(rnd_forest_predictions, normalize=True)\n"
      ],
      "metadata": {
        "colab": {
          "base_uri": "https://localhost:8080/",
          "height": 487
        },
        "id": "WeHvci6F2Pbm",
        "outputId": "4e1039af-d8ea-4618-b986-df143999f72a"
      },
      "execution_count": null,
      "outputs": [
        {
          "output_type": "display_data",
          "data": {
            "text/plain": [
              "<Figure size 640x480 with 2 Axes>"
            ],
            "image/png": "[encoded data removed]"
          },
          "metadata": {}
        }
      ]
    },
    {
      "cell_type": "code",
      "source": [
        "if SAVE_COMPUTATIONS and not LOAD_PRETRAINED_MODELS:\n",
        "    save_pyspark_model(rnd_forest_model, RANDOM_FOREST_MODEL_PATH)"
      ],
      "metadata": {
        "id": "6sDwL_8a2TXT"
      },
      "execution_count": null,
      "outputs": []
    },
    {
      "cell_type": "code",
      "source": [
        "def random_forest_pipeline(dataframe: DataFrame,\n",
        "                           numerical_features: List[str],\n",
        "                           categorical_features: List[str],\n",
        "                           target_variable: str,\n",
        "                           features_col: str,\n",
        "                           with_std: bool = True,\n",
        "                           with_mean: bool = False,\n",
        "                           k_fold: int = 5) -> CrossValidatorModel:\n",
        "\n",
        "    from pyspark.ml.classification import RandomForestClassifier\n",
        "    from pyspark.ml.tuning import CrossValidator, ParamGridBuilder\n",
        "    from pyspark.ml.evaluation import MulticlassClassificationEvaluator\n",
        "    from pyspark.ml.feature import IndexToString\n",
        "    from pyspark.ml import Pipeline\n",
        "\n",
        "    data_encoder = encoding_pipeline(dataframe,\n",
        "                                     numerical_features,\n",
        "                                     categorical_features,\n",
        "                                     target_variable,\n",
        "                                     with_std,\n",
        "                                     with_mean)\n",
        "\n",
        "    classifier = RandomForestClassifier(featuresCol=features_col, labelCol=LABEL_COL)\n",
        "\n",
        "    predictions_idx_to_str = IndexToString(inputCol=PREDICTION_COL,\n",
        "                                           outputCol=PREDICTED_TARGET_VARIABLE_COL,\n",
        "                                           labels=data_encoder.stages[0].labels)\n",
        "\n",
        "    stages = [data_encoder, classifier, predictions_idx_to_str]\n",
        "\n",
        "    pipeline = Pipeline(stages=stages)\n",
        "\n",
        "    # We use a ParamGridBuilder to construct a grid of parameters to search over.\n",
        "    # With 3 values for maxDepth and 3 values for numTrees\n",
        "    # this grid will have 3 x 3 = 9 parameter settings for CrossValidator to choose from.\n",
        "    param_grid = ParamGridBuilder() \\\n",
        "        .addGrid(classifier.maxDepth, [3, 5, 8]) \\\n",
        "        .addGrid(classifier.numTrees, [10, 50, 100]) \\\n",
        "        .build()\n",
        "\n",
        "    evaluator = MulticlassClassificationEvaluator(labelCol=LABEL_COL,\n",
        "                                                  predictionCol=PREDICTION_COL,\n",
        "                                                  metricName='accuracy')\n",
        "\n",
        "    cross_val = CrossValidator(estimator=pipeline,\n",
        "                               estimatorParamMaps=param_grid,\n",
        "                               evaluator=evaluator,\n",
        "                               numFolds=k_fold,\n",
        "                               collectSubModels=True)\n",
        "\n",
        "    cv_model = cross_val.fit(dataframe)\n",
        "\n",
        "    return cv_model"
      ],
      "metadata": {
        "id": "kcdhkxsi2jJm"
      },
      "execution_count": null,
      "outputs": []
    },
    {
      "cell_type": "code",
      "source": [
        "# rnd_forest_cv_model = CrossValidatorModel.load(RANDOM_FOREST_CROSS_VALIDATION_MODEL_PATH) if LOAD_PRETRAINED_MODELS \\\n",
        "#                       else random_forest_pipeline(train_df,\n",
        "#                                                   NUMERICAL_FEATURES,\n",
        "#                                                   CATEGORICAL_FEATURES,\n",
        "#                                                   TARGET_VARIABLE_COL,\n",
        "#                                                   FEATURES_COL)\n",
        "rnd_forest_cv_model = random_forest_pipeline(train_df,\n",
        "                                            NUMERICAL_FEATURES,\n",
        "                                            CATEGORICAL_FEATURES,\n",
        "                                            TARGET_VARIABLE_COL,\n",
        "                                            FEATURES_COL)"
      ],
      "metadata": {
        "id": "QPD_5JKL2o1h"
      },
      "execution_count": null,
      "outputs": []
    },
    {
      "cell_type": "code",
      "source": [
        "rnd_forest_cv_model_obj = rnd_forest_cv_model.bestModel.stages[-2]._java_obj\n",
        "\n",
        "print('Best model according to k-fold cross validation:')\n",
        "print(f' - numTrees=[{rnd_forest_cv_model_obj.getNumTrees()}]')\n",
        "print(f' - maxDepth=[{rnd_forest_cv_model_obj.getMaxDepth()}]')"
      ],
      "metadata": {
        "colab": {
          "base_uri": "https://localhost:8080/"
        },
        "id": "p6pCT2px2vuA",
        "outputId": "34ac854c-9029-4d84-cbef-94b9efcec6f8"
      },
      "execution_count": null,
      "outputs": [
        {
          "output_type": "stream",
          "name": "stdout",
          "text": [
            "Best model according to k-fold cross validation:\n",
            " - numTrees=[100]\n",
            " - maxDepth=[8]\n"
          ]
        }
      ]
    },
    {
      "cell_type": "code",
      "source": [
        "if SAVE_COMPUTATIONS and not LOAD_PRETRAINED_MODELS:\n",
        "    save_pyspark_model(rnd_forest_cv_model, RANDOM_FOREST_CROSS_VALIDATION_MODEL_PATH)"
      ],
      "metadata": {
        "id": "R3Sttq1J2xvg"
      },
      "execution_count": null,
      "outputs": []
    },
    {
      "cell_type": "code",
      "source": [
        "rnd_forest_cv_predictions = rnd_forest_cv_model.transform(test_df)\n"
      ],
      "metadata": {
        "id": "RCBLiM572zc_"
      },
      "execution_count": null,
      "outputs": []
    },
    {
      "cell_type": "code",
      "source": [
        "eval_predictions(rnd_forest_cv_predictions)\n"
      ],
      "metadata": {
        "colab": {
          "base_uri": "https://localhost:8080/"
        },
        "id": "3mu6N6eh204P",
        "outputId": "a91db93b-defa-47ad-b37c-252a26ed49d2"
      },
      "execution_count": null,
      "outputs": [
        {
          "output_type": "stream",
          "name": "stdout",
          "text": [
            "Accuracy: 0.5420139229336209\n",
            "Precision: 0.5207858464894176\n",
            "Recall: 0.5388572863340392\n",
            "F1-score: 0.5296674688066283\n"
          ]
        }
      ]
    },
    {
      "cell_type": "code",
      "source": [
        "plot_confusion_matrix(rnd_forest_cv_predictions, normalize=True)\n"
      ],
      "metadata": {
        "colab": {
          "base_uri": "https://localhost:8080/",
          "height": 487
        },
        "id": "wGw8Rtva22B9",
        "outputId": "0d25a6ff-e33a-4344-cd75-52ee4c629100"
      },
      "execution_count": null,
      "outputs": [
        {
          "output_type": "display_data",
          "data": {
            "text/plain": [
              "<Figure size 640x480 with 2 Axes>"
            ],
            "image/png": "[encoded data removed]"
          },
          "metadata": {}
        }
      ]
    },
    {
      "cell_type": "markdown",
      "source": [
        "**Decision Tree Model**"
      ],
      "metadata": {
        "id": "7i6J8rrOW2GY"
      }
    },
    {
      "cell_type": "code",
      "source": [
        "classifier = DecisionTreeClassifier(\n",
        "    featuresCol = 'scaled_features',\n",
        "    labelCol = 'label',\n",
        "    maxDepth = 10\n",
        ")"
      ],
      "metadata": {
        "id": "UCJTp5diWp_8"
      },
      "execution_count": null,
      "outputs": []
    },
    {
      "cell_type": "code",
      "source": [
        "pipeline = Pipeline(stages = [data_encoder, classifier])\n"
      ],
      "metadata": {
        "id": "Nhd5aTciWsdR"
      },
      "execution_count": null,
      "outputs": []
    },
    {
      "cell_type": "code",
      "source": [
        "evaluator = MulticlassClassificationEvaluator(\n",
        "    labelCol = 'label',\n",
        "    predictionCol = 'prediction',\n",
        "    metricName = 'accuracy'\n",
        ")"
      ],
      "metadata": {
        "id": "LT_Q2U7yXC-l"
      },
      "execution_count": null,
      "outputs": []
    },
    {
      "cell_type": "code",
      "source": [
        "# Define the grid of hyperparameters\n",
        "param_grid = ParamGridBuilder().build()\n",
        "\n",
        "# Set up the cross validator for model training and hyperparameter tuning\n",
        "cross_validator = CrossValidator(\n",
        "    estimator = pipeline,\n",
        "    estimatorParamMaps = param_grid,\n",
        "    evaluator = evaluator,\n",
        "    numFolds = 5\n",
        ")"
      ],
      "metadata": {
        "id": "As4bqJiOXGqg"
      },
      "execution_count": null,
      "outputs": []
    },
    {
      "cell_type": "code",
      "source": [
        "model = cross_validator.fit(train_df)"
      ],
      "metadata": {
        "id": "r0cyEODdXGwy"
      },
      "execution_count": null,
      "outputs": []
    },
    {
      "cell_type": "code",
      "source": [
        "predictions = model.transform(test_df)"
      ],
      "metadata": {
        "id": "br5bE1f8XGzP"
      },
      "execution_count": null,
      "outputs": []
    },
    {
      "cell_type": "code",
      "source": [
        "eval_predictions(predictions)\n"
      ],
      "metadata": {
        "id": "eaky_ysCXG2s"
      },
      "execution_count": null,
      "outputs": []
    },
    {
      "cell_type": "markdown",
      "source": [
        "**Multilayer Perceptron**"
      ],
      "metadata": {
        "id": "UEjzek_MXRIf"
      }
    },
    {
      "cell_type": "code",
      "source": [
        "layers = [len(NUMERICAL_FEATURES) + len(CATEGORICAL_FEATURES), 32, 64, 128, 6]"
      ],
      "metadata": {
        "id": "0-03YyFWXN0O"
      },
      "execution_count": null,
      "outputs": []
    },
    {
      "cell_type": "code",
      "source": [
        "classifier = MultilayerPerceptronClassifier(\n",
        "    featuresCol = 'scaled_features',\n",
        "    labelCol = 'label',\n",
        "    maxIter = 500,\n",
        "    layers = layers,\n",
        "    blockSize = 128,\n",
        "    seed = 42,\n",
        ")"
      ],
      "metadata": {
        "id": "zE7P-AkYXN3N"
      },
      "execution_count": null,
      "outputs": []
    },
    {
      "cell_type": "code",
      "source": [
        "pipeline = Pipeline(stages = [data_encoder, classifier])"
      ],
      "metadata": {
        "id": "bdu-AYKgXN56"
      },
      "execution_count": null,
      "outputs": []
    },
    {
      "cell_type": "code",
      "source": [
        "evaluator = MulticlassClassificationEvaluator(\n",
        "    labelCol = 'label',\n",
        "    predictionCol = 'prediction',\n",
        "    metricName = 'accuracy'\n",
        ")"
      ],
      "metadata": {
        "id": "WqYr-FH5XN8q"
      },
      "execution_count": null,
      "outputs": []
    },
    {
      "cell_type": "code",
      "source": [
        "# Define the grid of hyperparameters\n",
        "param_grid = ParamGridBuilder().build()\n",
        "\n",
        "# Set up the cross validator for model training and hyperparameter tuning\n",
        "cross_validator = CrossValidator(\n",
        "    estimator = pipeline,\n",
        "    estimatorParamMaps = param_grid,\n",
        "    evaluator = evaluator,\n",
        "    numFolds = 5\n",
        ")"
      ],
      "metadata": {
        "id": "o29jRu_IXN_O"
      },
      "execution_count": null,
      "outputs": []
    },
    {
      "cell_type": "code",
      "source": [
        "model = cross_validator.fit(train_df)"
      ],
      "metadata": {
        "id": "gxh6I85sXOBz"
      },
      "execution_count": null,
      "outputs": []
    },
    {
      "cell_type": "code",
      "source": [
        "predictions = model.transform(test_df)"
      ],
      "metadata": {
        "id": "kcDqLj-AXOD4"
      },
      "execution_count": null,
      "outputs": []
    },
    {
      "cell_type": "code",
      "source": [
        "dt_predictions = predictions_idx_to_str.transform(predictions)\n",
        "plot_confusion_matrix(dt_predictions, normalize = True)"
      ],
      "metadata": {
        "id": "JgejNP91XOHR"
      },
      "execution_count": null,
      "outputs": []
    },
    {
      "cell_type": "markdown",
      "source": [
        "**Compare with Open Weather API**"
      ],
      "metadata": {
        "id": "YE8BhrGFX276"
      }
    },
    {
      "cell_type": "code",
      "source": [
        "API_KEY = '20d64175b45f6cdedff241d5ebc82d4a'\n",
        "CITY_NAMES = ['Vancouver']\n",
        "\n",
        "openweather_model = rnd_forest_cv_model\n",
        "\n",
        "OPENWEATHER_FORECAST_COL = 'openweather_forecast'"
      ],
      "metadata": {
        "id": "pNM-SXJ0Xr0e"
      },
      "execution_count": null,
      "outputs": []
    },
    {
      "cell_type": "code",
      "source": [
        "def get_5_days_forecasts_df(city_name: str, api_key: str) -> ks.DataFrame:\n",
        "\n",
        "    import requests\n",
        "\n",
        "    API_URL = f'http://api.openweathermap.org/data/2.5/forecast?q={city_name}&appid={api_key}'\n",
        "\n",
        "    res = requests.get(API_URL).json()\n",
        "\n",
        "    coord = res['city']['coord']\n",
        "\n",
        "    latitude = float(coord['lat'])\n",
        "    longitude = float(coord['lon'])\n",
        "\n",
        "    WeatherForecast = Row(DATETIME_COL,\n",
        "                          HUMIDITY_COL,\n",
        "                          PRESSURE_COL,\n",
        "                          TEMPERATURE_COL,\n",
        "                          WIND_DIRECTION_COL,\n",
        "                          WIND_SPEED_COL,\n",
        "                          TARGET_VARIABLE_COL,\n",
        "                          CITY_COL,\n",
        "                          LATITUDE_COL,\n",
        "                          LONGITUDE_COL)\n",
        "\n",
        "    forecasts = list()\n",
        "\n",
        "    for forecast in res['list']:\n",
        "\n",
        "        main = forecast['main']\n",
        "        wind = forecast['wind']\n",
        "        weather = forecast['weather']\n",
        "\n",
        "        datetime = forecast['dt_txt']\n",
        "\n",
        "        temperature = float(main['temp'])\n",
        "        pressure = float(main['pressure'])\n",
        "        humidity = float(main['humidity'])\n",
        "        wind_speed = float(wind['speed'])\n",
        "        wind_direction = float(wind['deg'])\n",
        "\n",
        "        weather_condition = weather[0]['main']\n",
        "\n",
        "        forecast_row = WeatherForecast(datetime,\n",
        "                                       humidity,\n",
        "                                       pressure,\n",
        "                                       temperature,\n",
        "                                       wind_direction,\n",
        "                                       wind_speed,\n",
        "                                       weather_condition,\n",
        "                                       city_name,\n",
        "                                       latitude,\n",
        "                                       longitude)\n",
        "\n",
        "        forecasts.append(forecast_row)\n",
        "\n",
        "    return spark.createDataFrame(forecasts).to_koalas()\n"
      ],
      "metadata": {
        "id": "WzuezU1CX0Wv"
      },
      "execution_count": null,
      "outputs": []
    },
    {
      "cell_type": "code",
      "source": [
        "openweather_forecasts_df = ks.concat([get_5_days_forecasts_df(city_name, API_KEY) for city_name in CITY_NAMES])"
      ],
      "metadata": {
        "id": "FKSNOBiqXr35"
      },
      "execution_count": null,
      "outputs": []
    },
    {
      "cell_type": "code",
      "source": [
        "weather_conditions = openweather_forecasts_df[TARGET_VARIABLE_COL].to_numpy()\n",
        "weather_conditions_dict = get_weather_conditions_aggregation_dict(weather_conditions)"
      ],
      "metadata": {
        "id": "ADxYrvqBX_QW"
      },
      "execution_count": null,
      "outputs": []
    },
    {
      "cell_type": "code",
      "source": [
        "openweather_forecasts_df = openweather_forecasts_df.to_spark().replace(weather_conditions_dict)"
      ],
      "metadata": {
        "id": "w-dcIkRxX_S5"
      },
      "execution_count": null,
      "outputs": []
    },
    {
      "cell_type": "code",
      "source": [
        "openweather_forecasts_df = openweather_forecasts_df.filter(openweather_forecasts_df[TARGET_VARIABLE_COL].isin(WEATHER_CONDITIONS))"
      ],
      "metadata": {
        "id": "n6IFwQbgX_WU"
      },
      "execution_count": null,
      "outputs": []
    },
    {
      "cell_type": "code",
      "source": [
        "openweather_forecasts_df.to_koalas().head(5)"
      ],
      "metadata": {
        "id": "U6bqokClYDAc"
      },
      "execution_count": null,
      "outputs": []
    },
    {
      "cell_type": "code",
      "source": [
        "openweather_forecasts_predictions = openweather_model.transform(openweather_forecasts_df)"
      ],
      "metadata": {
        "id": "0QR_pZznYDDN"
      },
      "execution_count": null,
      "outputs": []
    },
    {
      "cell_type": "code",
      "source": [
        "openweather_forecasts_predictions \\\n",
        "    .withColumn(OPENWEATHER_FORECAST_COL, col(TARGET_VARIABLE_COL)) \\\n",
        "    .select([DATETIME_COL, CITY_COL, OPENWEATHER_FORECAST_COL, PREDICTED_TARGET_VARIABLE_COL]) \\\n",
        "    .to_koalas().head(15)"
      ],
      "metadata": {
        "id": "7JtGXv9NYDF7"
      },
      "execution_count": null,
      "outputs": []
    },
    {
      "cell_type": "code",
      "source": [
        "plot_confusion_matrix(openweather_forecasts_predictions, normalize=True)"
      ],
      "metadata": {
        "id": "Ec41MTgWYDIW"
      },
      "execution_count": null,
      "outputs": []
    }
  ]
}